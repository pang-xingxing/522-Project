{
  "cells": [
    {
      "cell_type": "markdown",
      "source": [
        "# Import Module"
      ],
      "metadata": {
        "id": "MlFBciuZPBAI"
      }
    },
    {
      "cell_type": "code",
      "execution_count": 1,
      "metadata": {
        "_cell_guid": "b1076dfc-b9ad-4769-8c92-a6c4dae69d19",
        "_uuid": "8f2839f25d086af736a60e9eeb907d3b93b6e0e5",
        "colab": {
          "base_uri": "https://localhost:8080/"
        },
        "id": "XtXzQoALE0px",
        "outputId": "f9030829-0ed7-4a82-9b1d-51b9f9059473"
      },
      "outputs": [
        {
          "output_type": "stream",
          "name": "stdout",
          "text": [
            "Collecting opendatasets\n",
            "  Downloading opendatasets-0.1.22-py3-none-any.whl (15 kB)\n",
            "Requirement already satisfied: tqdm in /usr/local/lib/python3.7/dist-packages (from opendatasets) (4.64.0)\n",
            "Requirement already satisfied: kaggle in /usr/local/lib/python3.7/dist-packages (from opendatasets) (1.5.12)\n",
            "Requirement already satisfied: click in /usr/local/lib/python3.7/dist-packages (from opendatasets) (7.1.2)\n",
            "Requirement already satisfied: python-dateutil in /usr/local/lib/python3.7/dist-packages (from kaggle->opendatasets) (2.8.2)\n",
            "Requirement already satisfied: python-slugify in /usr/local/lib/python3.7/dist-packages (from kaggle->opendatasets) (6.1.1)\n",
            "Requirement already satisfied: urllib3 in /usr/local/lib/python3.7/dist-packages (from kaggle->opendatasets) (1.24.3)\n",
            "Requirement already satisfied: certifi in /usr/local/lib/python3.7/dist-packages (from kaggle->opendatasets) (2021.10.8)\n",
            "Requirement already satisfied: six>=1.10 in /usr/local/lib/python3.7/dist-packages (from kaggle->opendatasets) (1.15.0)\n",
            "Requirement already satisfied: requests in /usr/local/lib/python3.7/dist-packages (from kaggle->opendatasets) (2.23.0)\n",
            "Requirement already satisfied: text-unidecode>=1.3 in /usr/local/lib/python3.7/dist-packages (from python-slugify->kaggle->opendatasets) (1.3)\n",
            "Requirement already satisfied: chardet<4,>=3.0.2 in /usr/local/lib/python3.7/dist-packages (from requests->kaggle->opendatasets) (3.0.4)\n",
            "Requirement already satisfied: idna<3,>=2.5 in /usr/local/lib/python3.7/dist-packages (from requests->kaggle->opendatasets) (2.10)\n",
            "Installing collected packages: opendatasets\n",
            "Successfully installed opendatasets-0.1.22\n"
          ]
        }
      ],
      "source": [
        "# Import module\n",
        "\n",
        "!pip install opendatasets\n",
        "import opendatasets as od\n",
        "import numpy as np \n",
        "import pandas as pd \n",
        "import matplotlib.pyplot as plt\n",
        "from matplotlib.image import imread\n",
        "import seaborn as sns\n",
        "import random\n",
        "import cv2\n",
        "import copy\n",
        "import torch\n",
        "import torch.nn as nn\n",
        "import torch.nn.functional as F\n",
        "import torchvision\n",
        "import torchvision.transforms as tt\n",
        "import torchvision.models as models\n",
        "from torchvision.datasets import ImageFolder\n",
        "from torchvision.utils import make_grid\n",
        "from torch.utils.data import random_split, DataLoader\n",
        "from mlxtend.plotting import plot_confusion_matrix\n",
        "from sklearn.metrics import confusion_matrix\n",
        "import os"
      ]
    },
    {
      "cell_type": "markdown",
      "metadata": {
        "id": "cB4It4LzE0py"
      },
      "source": [
        "This dataset is well structured for most deep learning frameworks. It is organized into train, val, and test folders, which contains subfolders of the classes of pneumonia (normal, pneumonia), each containing the respective jpeg images."
      ]
    },
    {
      "cell_type": "markdown",
      "source": [
        "# Download Data"
      ],
      "metadata": {
        "id": "ZSZlIPgJ5EQH"
      }
    },
    {
      "cell_type": "code",
      "execution_count": 2,
      "metadata": {
        "_cell_guid": "79c7e3d0-c299-4dcb-8224-4455121ee9b0",
        "_uuid": "d629ff2d2480ee46fbb7e2d37f6b5fab8052498a",
        "colab": {
          "base_uri": "https://localhost:8080/"
        },
        "id": "gLhnhD1YE0py",
        "outputId": "295e50b6-2d74-4a76-9f22-6ef587e48e66"
      },
      "outputs": [
        {
          "output_type": "stream",
          "name": "stdout",
          "text": [
            "Please provide your Kaggle credentials to download this dataset. Learn more: http://bit.ly/kaggle-creds\n",
            "Your Kaggle username: peihanl\n",
            "Your Kaggle Key: ··········\n",
            "Downloading chest-xray-pneumonia.zip to ./chest-xray-pneumonia\n"
          ]
        },
        {
          "output_type": "stream",
          "name": "stderr",
          "text": [
            "100%|██████████| 2.29G/2.29G [00:10<00:00, 232MB/s]\n"
          ]
        },
        {
          "output_type": "stream",
          "name": "stdout",
          "text": [
            "\n"
          ]
        }
      ],
      "source": [
        "od.download(\"https://www.kaggle.com/datasets/paultimothymooney/chest-xray-pneumonia\")\n",
        "data_dir = '/content/chest-xray-pneumonia/chest_xray/chest_xray'\n",
        "classes = os.listdir(data_dir + \"/train\")\n",
        "pneumonia_files = os.listdir(data_dir + \"/train/PNEUMONIA\")\n",
        "normal_files = os.listdir(data_dir + \"/train/NORMAL\")"
      ]
    },
    {
      "cell_type": "code",
      "execution_count": 3,
      "metadata": {
        "id": "NPBGqIVIE0pz"
      },
      "outputs": [],
      "source": [
        "# Resize and data augmentation\n",
        "dataset = ImageFolder(data_dir+'/train', \n",
        "                      transform=tt.Compose([tt.Resize(255),\n",
        "                                            tt.CenterCrop(224),\n",
        "                                            tt.RandomHorizontalFlip(),\n",
        "                                            tt.RandomRotation(10),\n",
        "                                            tt.RandomGrayscale(),\n",
        "                                            tt.RandomAffine(translate=(0.05,0.05), degrees=0),\n",
        "                                            tt.ToTensor()\n",
        "                                           ]))\n",
        "\n",
        "# dataset = ImageFolder(data_dir+'/train', \n",
        "#                       transform=tt.Compose([tt.Resize(255),\n",
        "#                                             tt.CenterCrop(224),\n",
        "#                                             tt.ToTensor()\n",
        "#                                            ]))"
      ]
    },
    {
      "cell_type": "markdown",
      "metadata": {
        "id": "lFC1JBCWE0p0"
      },
      "source": [
        "We can get the classes by using the `.classes` on the dataset."
      ]
    },
    {
      "cell_type": "markdown",
      "metadata": {
        "id": "BX3DzmkaE0p2"
      },
      "source": [
        "<a id='Preparing_data'></a>\n",
        "# Preparing Training Set and Validation Set\n"
      ]
    },
    {
      "cell_type": "code",
      "execution_count": 4,
      "metadata": {
        "colab": {
          "base_uri": "https://localhost:8080/"
        },
        "id": "pF1Nr_9IE0p2",
        "outputId": "bcc939f2-2373-42aa-fd11-f7bc90091495"
      },
      "outputs": [
        {
          "output_type": "execute_result",
          "data": {
            "text/plain": [
              "(3651, 1565)"
            ]
          },
          "metadata": {},
          "execution_count": 4
        }
      ],
      "source": [
        "# Split training set and validation set\n",
        "train_size = round(len(dataset)*0.7) # 70%\n",
        "val_size = len(dataset) - train_size # 30%\n",
        "\n",
        "train_ds, val_ds = random_split(dataset, [train_size, val_size])\n",
        "len(train_ds), len(val_ds)"
      ]
    },
    {
      "cell_type": "code",
      "execution_count": 5,
      "metadata": {
        "colab": {
          "base_uri": "https://localhost:8080/"
        },
        "id": "WGqdYBM4E0p2",
        "outputId": "ed9efaf5-0171-4d2b-d5e8-f5474166019f"
      },
      "outputs": [
        {
          "output_type": "stream",
          "name": "stderr",
          "text": [
            "/usr/local/lib/python3.7/dist-packages/torch/utils/data/dataloader.py:490: UserWarning: This DataLoader will create 4 worker processes in total. Our suggested max number of worker in current system is 2, which is smaller than what this DataLoader is going to create. Please be aware that excessive worker creation might get DataLoader running slow or even freeze, lower the worker number to avoid potential slowness/freeze if necessary.\n",
            "  cpuset_checked))\n"
          ]
        }
      ],
      "source": [
        "batch_size=64\n",
        "\n",
        "train_dl = DataLoader(train_ds, batch_size, shuffle=True, num_workers=4, pin_memory=True)\n",
        "val_dl = DataLoader(val_ds, batch_size*2, num_workers=4, pin_memory=True)"
      ]
    },
    {
      "cell_type": "code",
      "source": [
        "# Set GPU\n",
        "def get_default_device():\n",
        "    \"\"\"Pick GPU if available, else CPU\"\"\"\n",
        "    if torch.cuda.is_available():\n",
        "        return torch.device('cuda')\n",
        "    else:\n",
        "        return torch.device('cpu')\n",
        "    \n",
        "device = get_default_device()\n",
        "\n",
        "def to_device(data, device):\n",
        "    \"\"\"Move tensor(s) to chosen device\"\"\"\n",
        "    if isinstance(data, (list,tuple)):\n",
        "        return [to_device(x, device) for x in data]\n",
        "    return data.to(device, non_blocking=True)\n",
        "\n",
        "class DeviceDataLoader():\n",
        "    \"\"\"Wrap a dataloader to move data to a device\"\"\"\n",
        "    def __init__(self, dl, device):\n",
        "        self.dl = dl\n",
        "        self.device = device\n",
        "        \n",
        "    def __iter__(self):\n",
        "        \"\"\"Yield a batch of data after moving it to device\"\"\"\n",
        "        for b in self.dl: \n",
        "            yield to_device(b, self.device) # yield will stop here, perform other steps, and the resumes to the next loop/batch\n",
        "\n",
        "    def __len__(self):\n",
        "        \"\"\"Number of batches\"\"\"\n",
        "        return len(self.dl)"
      ],
      "metadata": {
        "id": "dhXda81G6NB7"
      },
      "execution_count": 6,
      "outputs": []
    },
    {
      "cell_type": "markdown",
      "source": [
        "# Helper Function"
      ],
      "metadata": {
        "id": "QpdwZX2X6tmQ"
      }
    },
    {
      "cell_type": "code",
      "source": [
        "def accuracy(outputs, labels):\n",
        "    _, preds = torch.max(outputs, dim=1) \n",
        "    return torch.tensor(torch.sum(preds == labels).item() / len(preds)), preds\n",
        "\n",
        "def F1_score(outputs, labels):\n",
        "    _, preds = torch.max(outputs, dim=1) \n",
        "    \n",
        "    # precision, recall, and F1\n",
        "    cm  = confusion_matrix(labels, preds)\n",
        "    tn, fp, fn, tp = cm.ravel()\n",
        "    precision = tp/(tp+fp)\n",
        "    recall = tp/(tp+fn)\n",
        "    f1 = 2*((precision*recall)/(precision+recall))\n",
        "    \n",
        "    return precision,recall,f1,preds\n",
        "\n",
        "def evaluate(model, val_loader):\n",
        "    model.eval()\n",
        "    outputs = [model.validation_step(batch) for batch in val_loader]\n",
        "    return model.validation_epoch_end(outputs)\n",
        "\n",
        "def get_lr(optimizer):\n",
        "    for param_group in optimizer.param_groups:\n",
        "        return param_group['lr']\n",
        "\n",
        "def fit(epochs, lr, model, train_loader, val_loader, weight, \n",
        "                  weight_decay=0, grad_clip=None, opt_func=torch.optim.SGD):\n",
        "    torch.cuda.empty_cache() # release all the GPU memory cache\n",
        "    history = {}\n",
        "    optimizer = opt_func(model.parameters(), lr)\n",
        "    best_loss = 100\n",
        "\n",
        "    for epoch in range(epochs):\n",
        "        \n",
        "        model.train() \n",
        "        train_outputs = []      \n",
        "        lrs = []\n",
        "        \n",
        "        for batch in train_loader:\n",
        "            outputs = model.training_step(batch, weight)\n",
        "            loss = outputs['train_loss']           \n",
        "            train_outputs.append(outputs)\n",
        "\n",
        "            train_results = model.train_epoch_end(train_outputs)                        \n",
        "            loss.backward()                                \n",
        "\n",
        "            if grad_clip: \n",
        "                nn.utils.clip_grad_value_(model.parameters(), grad_clip)\n",
        "            \n",
        "            optimizer.step()                                   \n",
        "            optimizer.zero_grad()   \n",
        "\n",
        "        val_results = evaluate(model, val_loader)\n",
        "        \n",
        "        # Save best loss\n",
        "        if val_results['val_loss'] < best_loss and epoch  >= 10:\n",
        "            best_loss = min(best_loss, val_results['val_loss'])\n",
        "            best_model_wts = copy.deepcopy(model.state_dict())\n",
        "            #torch.save(model.state_dict(), 'best_model.pt')\n",
        "        \n",
        "        # print results\n",
        "        model.epoch_end(epoch, train_results, val_results)\n",
        "        \n",
        "        # save results to dictionary\n",
        "        to_add = {'train_loss': train_results['train_loss'],\n",
        "                  'train_acc': train_results['train_acc'],\n",
        "                 'val_loss': val_results['val_loss'],\n",
        "                  'val_acc': val_results['val_acc'], 'lrs':lrs}\n",
        "\n",
        "        for key,val in to_add.items():\n",
        "            if key in history:\n",
        "                history[key].append(val)\n",
        "            else:\n",
        "                history[key] = [val]\n",
        "    \n",
        "    model.load_state_dict(best_model_wts)                         # load best model\n",
        "    \n",
        "    return history, optimizer, best_loss\n",
        "\n",
        "class PneumoniaModelBase(nn.Module):\n",
        "    \n",
        "    def training_step(self, batch, weight):\n",
        "        images,labels = batch\n",
        "        out = self(images)                                     \n",
        "        loss = F.cross_entropy(out, labels, weight=weight)    \n",
        "        acc,preds = accuracy(out, labels)               \n",
        "        \n",
        "        return {'train_loss': loss, 'train_acc':acc}\n",
        "       \n",
        "    def train_epoch_end(self, outputs):\n",
        "        batch_losses = [x['train_loss'] for x in outputs]      \n",
        "        epoch_loss = torch.stack(batch_losses).mean()   \n",
        "        batch_accs = [x['train_acc'] for x in outputs] \n",
        "        epoch_acc = torch.stack(batch_accs).mean()  \n",
        "        \n",
        "        return {'train_loss': epoch_loss.item(), 'train_acc': epoch_acc.item()}\n",
        "    \n",
        "    def validation_step(self, batch):\n",
        "        images,labels = batch\n",
        "        out = self(images)                                      \n",
        "        loss = F.cross_entropy(out, labels)                 \n",
        "        acc,preds = accuracy(out, labels)         \n",
        "        \n",
        "        return {'val_loss': loss.detach(), 'val_acc':acc.detach(), \n",
        "                'preds':preds.detach(), 'labels':labels.detach()}\n",
        "    \n",
        "    def validation_epoch_end(self, outputs):\n",
        "        batch_losses = [x['val_loss'] for x in outputs]       \n",
        "        epoch_loss = torch.stack(batch_losses).mean()      \n",
        "        batch_accs = [x['val_acc'] for x in outputs]   \n",
        "        epoch_acc = torch.stack(batch_accs).mean()   \n",
        "        \n",
        "        return {'val_loss': epoch_loss.item(), 'val_acc': epoch_acc.item()}\n",
        "\n",
        "    def epoch_end(self, epoch, train_result, val_result):\n",
        "        print('Epoch [{}], train_loss: {:.4f}, train_acc: {:.4f}, val_loss: {:.4f}, val_acc: {:.4f}'.\n",
        "              format(epoch+1, train_result['train_loss'], train_result['train_acc'],\n",
        "                     val_result['val_loss'], val_result['val_acc']))\n",
        "    \n",
        "    def test_prediction(self, outputs):\n",
        "        batch_losses = [x['val_loss'] for x in outputs]\n",
        "        epoch_loss = torch.stack(batch_losses).mean()       \n",
        "        batch_accs = [x['val_acc'] for x in outputs]\n",
        "        epoch_acc = torch.stack(batch_accs).mean()          \n",
        "        batch_preds = [pred for x in outputs for pred in x['preds'].tolist()] \n",
        "        batch_labels = [lab for x in outputs for lab in x['labels'].tolist()]  \n",
        "        \n",
        "        return {'test_loss': epoch_loss.item(), 'test_acc': epoch_acc.item(),\n",
        "                'test_preds': batch_preds, 'test_labels': batch_labels}      "
      ],
      "metadata": {
        "id": "lAbDUmZj7DtI"
      },
      "execution_count": 7,
      "outputs": []
    },
    {
      "cell_type": "markdown",
      "source": [
        "# Define Resnet Model"
      ],
      "metadata": {
        "id": "cd_G_3uL7u-W"
      }
    },
    {
      "cell_type": "code",
      "source": [
        "resnet50 = models.resnet50(pretrained=True)"
      ],
      "metadata": {
        "id": "bn6dZzrt7zUP",
        "colab": {
          "base_uri": "https://localhost:8080/",
          "height": 67,
          "referenced_widgets": [
            "9fb699b8373046c9bf56ef263d050300",
            "f26132a614ca4afaa4ff1a9dccb83196",
            "38c41426833f457f9d2d7a18a6e2d0ce",
            "023aa173109a413bab9dfde6d555e5f8",
            "feac86540aa54dc1af011ba36d991826",
            "211c6097962e4fadbc12ff405d425848",
            "01fa8622d5bc4c1f814890db30d025fb",
            "1f12531b90fd4e309b034a4e67ced4ec",
            "20fbd91641444f4796d2d25e8914b428",
            "79cee4cad6fc42b1b2a7ec1fe87813af",
            "6474dc7bb11c4872b5c1ee998d71bc46"
          ]
        },
        "outputId": "29d9b4d8-4341-458f-99cb-608c2a6d8680"
      },
      "execution_count": 8,
      "outputs": [
        {
          "output_type": "stream",
          "name": "stderr",
          "text": [
            "Downloading: \"https://download.pytorch.org/models/resnet50-0676ba61.pth\" to /root/.cache/torch/hub/checkpoints/resnet50-0676ba61.pth\n"
          ]
        },
        {
          "output_type": "display_data",
          "data": {
            "text/plain": [
              "  0%|          | 0.00/97.8M [00:00<?, ?B/s]"
            ],
            "application/vnd.jupyter.widget-view+json": {
              "version_major": 2,
              "version_minor": 0,
              "model_id": "9fb699b8373046c9bf56ef263d050300"
            }
          },
          "metadata": {}
        }
      ]
    },
    {
      "cell_type": "code",
      "source": [
        "class Resnet(PneumoniaModelBase):\n",
        "    def __init__(self):\n",
        "        super().__init__()\n",
        "        # Use a pretrained model\n",
        "        self.network = models.resnet50(pretrained=True)\n",
        "        # Unfreeze the last two layers of resnet50\n",
        "        # layer = 0\n",
        "        # for child in self.network.children():\n",
        "        #   layer += 1\n",
        "        #   if layer < 9:\n",
        "        #         for param in child.parameters():\n",
        "        #           param.requires_grad = False\n",
        "        # Freeze training for all layers before classifier\n",
        "        for param in self.network.fc.parameters():\n",
        "            param.require_grad = False  \n",
        "        num_features = self.network.fc.in_features # get number of in features of last layer\n",
        "        self.network.fc = nn.Linear(num_features, 2) # replace model classifier\n",
        "    \n",
        "    def forward(self, xb):\n",
        "        return self.network(xb)"
      ],
      "metadata": {
        "id": "pf3V8e8Q7Dvs"
      },
      "execution_count": 9,
      "outputs": []
    },
    {
      "cell_type": "markdown",
      "source": [
        "# Train"
      ],
      "metadata": {
        "id": "M3FPsiR6-t_h"
      }
    },
    {
      "cell_type": "code",
      "source": [
        "train_dl = DeviceDataLoader(train_dl, device)\n",
        "val_dl = DeviceDataLoader(val_dl, device)\n",
        "model = to_device(Resnet(), device)"
      ],
      "metadata": {
        "id": "7uC9wX1y7Dyj"
      },
      "execution_count": 10,
      "outputs": []
    },
    {
      "cell_type": "code",
      "source": [
        "epochs = 20\n",
        "lr = 0.0001\n",
        "grad_clip = None\n",
        "weight_decay = 1e-4\n",
        "opt_func = torch.optim.Adam\n",
        "# weighted loss for data class imbalance\n",
        "weight = torch.FloatTensor([3876/(1342+3876), 1342/(1342+3876)]).to(device)"
      ],
      "metadata": {
        "id": "M6TF1VOY-zEh"
      },
      "execution_count": null,
      "outputs": []
    },
    {
      "cell_type": "code",
      "source": [
        "history, optimizer, best_loss = fit(epochs, lr, model, train_dl, val_dl, weight, \n",
        "                                    grad_clip=grad_clip, \n",
        "                                    weight_decay=weight_decay, \n",
        "                                    opt_func=opt_func)"
      ],
      "metadata": {
        "colab": {
          "base_uri": "https://localhost:8080/"
        },
        "id": "2cRGonB4-11V",
        "outputId": "f776b377-e702-4eaf-ffdd-53726c0e810b"
      },
      "execution_count": null,
      "outputs": [
        {
          "output_type": "stream",
          "name": "stderr",
          "text": [
            "/usr/local/lib/python3.7/dist-packages/torch/utils/data/dataloader.py:490: UserWarning: This DataLoader will create 4 worker processes in total. Our suggested max number of worker in current system is 2, which is smaller than what this DataLoader is going to create. Please be aware that excessive worker creation might get DataLoader running slow or even freeze, lower the worker number to avoid potential slowness/freeze if necessary.\n",
            "  cpuset_checked))\n"
          ]
        },
        {
          "output_type": "stream",
          "name": "stdout",
          "text": [
            "Epoch [1], train_loss: 0.1479, train_acc: 0.9444, val_loss: 0.2418, val_acc: 0.8893\n",
            "Epoch [2], train_loss: 0.0754, train_acc: 0.9712, val_loss: 0.0773, val_acc: 0.9715\n",
            "Epoch [3], train_loss: 0.0503, train_acc: 0.9801, val_loss: 0.0646, val_acc: 0.9773\n",
            "Epoch [4], train_loss: 0.0545, train_acc: 0.9809, val_loss: 0.1080, val_acc: 0.9631\n",
            "Epoch [5], train_loss: 0.0269, train_acc: 0.9911, val_loss: 0.0696, val_acc: 0.9689\n",
            "Epoch [6], train_loss: 0.0472, train_acc: 0.9802, val_loss: 0.0838, val_acc: 0.9737\n",
            "Epoch [7], train_loss: 0.0682, train_acc: 0.9784, val_loss: 0.1108, val_acc: 0.9622\n",
            "Epoch [8], train_loss: 0.0809, train_acc: 0.9754, val_loss: 0.0978, val_acc: 0.9613\n",
            "Epoch [9], train_loss: 0.0880, train_acc: 0.9711, val_loss: 0.0614, val_acc: 0.9745\n",
            "Epoch [10], train_loss: 0.0486, train_acc: 0.9844, val_loss: 0.0726, val_acc: 0.9697\n",
            "Epoch [11], train_loss: 0.0296, train_acc: 0.9884, val_loss: 0.0823, val_acc: 0.9697\n",
            "Epoch [12], train_loss: 0.0315, train_acc: 0.9856, val_loss: 0.0622, val_acc: 0.9805\n",
            "Epoch [13], train_loss: 0.0356, train_acc: 0.9871, val_loss: 0.0666, val_acc: 0.9769\n",
            "Epoch [14], train_loss: 0.0181, train_acc: 0.9933, val_loss: 0.0623, val_acc: 0.9796\n",
            "Epoch [15], train_loss: 0.0171, train_acc: 0.9943, val_loss: 0.0552, val_acc: 0.9805\n",
            "Epoch [16], train_loss: 0.0112, train_acc: 0.9960, val_loss: 0.0548, val_acc: 0.9787\n",
            "Epoch [17], train_loss: 0.0417, train_acc: 0.9908, val_loss: 0.1111, val_acc: 0.9691\n",
            "Epoch [18], train_loss: 0.1303, train_acc: 0.9746, val_loss: 0.0729, val_acc: 0.9802\n",
            "Epoch [19], train_loss: 0.0712, train_acc: 0.9708, val_loss: 0.2429, val_acc: 0.9244\n",
            "Epoch [20], train_loss: 0.0825, train_acc: 0.9720, val_loss: 0.0708, val_acc: 0.9721\n"
          ]
        }
      ]
    },
    {
      "cell_type": "code",
      "source": [
        "# Save and load model\n",
        "bestmodel = {'model': Resnet(),\n",
        "              'state_dict': model.state_dict(),\n",
        "              'optimizer' : optimizer.state_dict()}\n",
        "\n",
        "torch.save(bestmodel, 'PneumoniaResnet.pth')\n",
        "\n",
        "def load_checkpoint(filepath):\n",
        "    checkpoint = torch.load(filepath)\n",
        "    model = checkpoint['model']\n",
        "    model.load_state_dict(checkpoint['state_dict'])\n",
        "    for parameter in model.parameters():\n",
        "        parameter.requires_grad = False\n",
        "\n",
        "    model.eval()\n",
        "    return model"
      ],
      "metadata": {
        "id": "P3NWpCKhICOs"
      },
      "execution_count": null,
      "outputs": []
    },
    {
      "cell_type": "code",
      "source": [
        "def load_checkpoint(filepath):\n",
        "    checkpoint = torch.load(filepath)\n",
        "    model = checkpoint['model']\n",
        "    model.load_state_dict(checkpoint['state_dict'])\n",
        "    for parameter in model.parameters():\n",
        "        parameter.requires_grad = False\n",
        "\n",
        "    model.eval()\n",
        "    return model"
      ],
      "metadata": {
        "id": "aBxH1eu4ICSj"
      },
      "execution_count": 11,
      "outputs": []
    },
    {
      "cell_type": "code",
      "source": [
        "model = load_checkpoint(\"/content/PneumoniaResnet.pth\")"
      ],
      "metadata": {
        "id": "LwnYo5cOO2jk"
      },
      "execution_count": 14,
      "outputs": []
    },
    {
      "cell_type": "code",
      "source": [
        "# Plot Accuracy and Loss \n",
        "\n",
        "f, (ax1, ax2) = plt.subplots(1, 2, figsize=(12, 4))\n",
        "t = f.suptitle('Performance', fontsize=12)\n",
        "f.subplots_adjust(top=0.85, wspace=0.3)\n",
        "\n",
        "epoch_list = list(range(1,epochs+1))\n",
        "ax1.plot(epoch_list, history['train_acc'], label='Train Accuracy')\n",
        "ax1.plot(epoch_list, history['val_acc'], label='Validation Accuracy')\n",
        "ax1.set_xticks(np.arange(0, epochs+1, 5))\n",
        "ax1.set_ylabel('Accuracy Value')\n",
        "ax1.set_xlabel('Epoch')\n",
        "ax1.set_title('Accuracy')\n",
        "l1 = ax1.legend(loc=\"best\")\n",
        "\n",
        "ax2.plot(epoch_list, history['train_loss'], label='Train Loss')\n",
        "ax2.plot(epoch_list, history['val_loss'], label='Validation Loss')\n",
        "ax2.set_xticks(np.arange(0, epochs+1, 5))\n",
        "ax2.set_ylabel('Loss Value')\n",
        "ax2.set_xlabel('Epoch')\n",
        "ax2.set_title('Loss')\n",
        "l2 = ax2.legend(loc=\"best\")"
      ],
      "metadata": {
        "colab": {
          "base_uri": "https://localhost:8080/",
          "height": 308
        },
        "id": "aeBC3SIXIVR8",
        "outputId": "4c505414-1223-43a0-ef14-a29d52368492"
      },
      "execution_count": null,
      "outputs": [
        {
          "output_type": "display_data",
          "data": {
            "text/plain": [
              "<Figure size 864x288 with 2 Axes>"
            ],
            "image/png": "[encoded data removed]"
          },
          "metadata": {
            "needs_background": "light"
          }
        }
      ]
    },
    {
      "cell_type": "markdown",
      "source": [
        "# Evaluation\n"
      ],
      "metadata": {
        "id": "zdUsNxAHTeA1"
      }
    },
    {
      "cell_type": "code",
      "source": [
        "def test_predict(model, test_loader):\n",
        "    # perform testing for each batch\n",
        "    outputs = [model.validation_step(batch) for batch in test_loader] \n",
        "    results = model.test_prediction(outputs)                          \n",
        "    print('test_loss: {:.4f}, test_acc: {:.4f}'\n",
        "          .format(results['test_loss'], results['test_acc']))\n",
        "    \n",
        "    return results['test_preds'], results['test_labels']"
      ],
      "metadata": {
        "id": "vE5MBlguIbXQ"
      },
      "execution_count": 15,
      "outputs": []
    },
    {
      "cell_type": "code",
      "source": [
        "test_dataset = ImageFolder(data_dir+'/test', \n",
        "                           transform=tt.Compose([tt.Resize(255),\n",
        "                                                 tt.CenterCrop(224),                                                              \n",
        "                                                 tt.ToTensor()\n",
        "                                                ]))"
      ],
      "metadata": {
        "id": "ORDuLJafIebm"
      },
      "execution_count": 16,
      "outputs": []
    },
    {
      "cell_type": "code",
      "source": [
        "test_dl = DataLoader(test_dataset, batch_size=256)\n",
        "# test_dl = DeviceDataLoader(test_dl, device)\n",
        "model = load_checkpoint(\"/content/PneumoniaResnet.pth\")\n",
        "preds,labels = test_predict(model, test_dl)"
      ],
      "metadata": {
        "colab": {
          "base_uri": "https://localhost:8080/"
        },
        "id": "DjZSnCsMIg9E",
        "outputId": "88659c8f-3099-40fe-c104-92101d550a9f"
      },
      "execution_count": 18,
      "outputs": [
        {
          "output_type": "stream",
          "name": "stdout",
          "text": [
            "test_loss: 0.4538, test_acc: 0.9115\n"
          ]
        }
      ]
    },
    {
      "cell_type": "code",
      "source": [
        "# cm  = confusion_matrix(labels, preds)\n",
        "# plt.figure()\n",
        "# plot_confusion_matrix(cm,figsize=(12,8),cmap=plt.cm.Blues)\n",
        "# plt.xticks(range(2), ['Normal', 'Pneumonia'], fontsize=16)\n",
        "# plt.yticks(range(2), ['Normal', 'Pneumonia'], fontsize=16)\n",
        "# plt.xlabel('Predicted Label',fontsize=18)\n",
        "# plt.ylabel('True Label',fontsize=18)\n",
        "# plt.show()"
      ],
      "metadata": {
        "id": "kMs9jOkrR3yq"
      },
      "execution_count": 23,
      "outputs": []
    },
    {
      "cell_type": "code",
      "source": [
        "from sklearn.metrics import classification_report, confusion_matrix\n",
        "import seaborn as sns\n",
        "confusion_matrix_df = pd.DataFrame(confusion_matrix(labels, preds))\n",
        "plt.figure(figsize=(16,8))\n",
        "sns.heatmap(confusion_matrix_df, cmap=\"RdBu\", annot=True)\n",
        "plt.title('KNN Confusion Matrix', fontsize=16)\n",
        "plt.xlabel(\"Predicted condition\")\n",
        "plt.ylabel(\"Actual condition\")\n",
        "plt.savefig(\"Resnet Confusion Matrix.png\")\n",
        "plt.show()"
      ],
      "metadata": {
        "colab": {
          "base_uri": "https://localhost:8080/",
          "height": 515
        },
        "id": "NskOWUEcSP9C",
        "outputId": "36c85486-10b3-458d-b8b3-f0da9fed8021"
      },
      "execution_count": 26,
      "outputs": [
        {
          "output_type": "display_data",
          "data": {
            "text/plain": [
              "<Figure size 1152x576 with 2 Axes>"
            ],
            "image/png": "[encoded data removed]"
          },
          "metadata": {
            "needs_background": "light"
          }
        }
      ]
    },
    {
      "cell_type": "code",
      "source": [
        "print(classification_report(labels, preds))"
      ],
      "metadata": {
        "colab": {
          "base_uri": "https://localhost:8080/"
        },
        "id": "py5qTuxSSwFQ",
        "outputId": "3391ae8c-b54f-4edd-93bc-a20b5a2b1b78"
      },
      "execution_count": 25,
      "outputs": [
        {
          "output_type": "stream",
          "name": "stdout",
          "text": [
            "              precision    recall  f1-score   support\n",
            "\n",
            "           0       0.99      0.72      0.83       234\n",
            "           1       0.85      0.99      0.92       390\n",
            "\n",
            "    accuracy                           0.89       624\n",
            "   macro avg       0.92      0.86      0.88       624\n",
            "weighted avg       0.90      0.89      0.89       624\n",
            "\n"
          ]
        }
      ]
    }
  ],
  "metadata": {
    "kernelspec": {
      "display_name": "Python 3",
      "language": "python",
      "name": "python3"
    },
    "language_info": {
      "codemirror_mode": {
        "name": "ipython",
        "version": 3
      },
      "file_extension": ".py",
      "mimetype": "text/x-python",
      "name": "python",
      "nbconvert_exporter": "python",
      "pygments_lexer": "ipython3",
      "version": "3.7.6"
    },
    "colab": {
      "name": "Resnet_best_version.ipynb",
      "provenance": []
    },
    "accelerator": "GPU",
    "widgets": {
      "application/vnd.jupyter.widget-state+json": {
        "9fb699b8373046c9bf56ef263d050300": {
          "model_module": "@jupyter-widgets/controls",
          "model_name": "HBoxModel",
          "model_module_version": "1.5.0",
          "state": {
            "_dom_classes": [],
            "_model_module": "@jupyter-widgets/controls",
            "_model_module_version": "1.5.0",
            "_model_name": "HBoxModel",
            "_view_count": null,
            "_view_module": "@jupyter-widgets/controls",
            "_view_module_version": "1.5.0",
            "_view_name": "HBoxView",
            "box_style": "",
            "children": [
              "IPY_MODEL_f26132a614ca4afaa4ff1a9dccb83196",
              "IPY_MODEL_38c41426833f457f9d2d7a18a6e2d0ce",
              "IPY_MODEL_023aa173109a413bab9dfde6d555e5f8"
            ],
            "layout": "IPY_MODEL_feac86540aa54dc1af011ba36d991826"
          }
        },
        "f26132a614ca4afaa4ff1a9dccb83196": {
          "model_module": "@jupyter-widgets/controls",
          "model_name": "HTMLModel",
          "model_module_version": "1.5.0",
          "state": {
            "_dom_classes": [],
            "_model_module": "@jupyter-widgets/controls",
            "_model_module_version": "1.5.0",
            "_model_name": "HTMLModel",
            "_view_count": null,
            "_view_module": "@jupyter-widgets/controls",
            "_view_module_version": "1.5.0",
            "_view_name": "HTMLView",
            "description": "",
            "description_tooltip": null,
            "layout": "IPY_MODEL_211c6097962e4fadbc12ff405d425848",
            "placeholder": "​",
            "style": "IPY_MODEL_01fa8622d5bc4c1f814890db30d025fb",
            "value": "100%"
          }
        },
        "38c41426833f457f9d2d7a18a6e2d0ce": {
          "model_module": "@jupyter-widgets/controls",
          "model_name": "FloatProgressModel",
          "model_module_version": "1.5.0",
          "state": {
            "_dom_classes": [],
            "_model_module": "@jupyter-widgets/controls",
            "_model_module_version": "1.5.0",
            "_model_name": "FloatProgressModel",
            "_view_count": null,
            "_view_module": "@jupyter-widgets/controls",
            "_view_module_version": "1.5.0",
            "_view_name": "ProgressView",
            "bar_style": "success",
            "description": "",
            "description_tooltip": null,
            "layout": "IPY_MODEL_1f12531b90fd4e309b034a4e67ced4ec",
            "max": 102530333,
            "min": 0,
            "orientation": "horizontal",
            "style": "IPY_MODEL_20fbd91641444f4796d2d25e8914b428",
            "value": 102530333
          }
        },
        "023aa173109a413bab9dfde6d555e5f8": {
          "model_module": "@jupyter-widgets/controls",
          "model_name": "HTMLModel",
          "model_module_version": "1.5.0",
          "state": {
            "_dom_classes": [],
            "_model_module": "@jupyter-widgets/controls",
            "_model_module_version": "1.5.0",
            "_model_name": "HTMLModel",
            "_view_count": null,
            "_view_module": "@jupyter-widgets/controls",
            "_view_module_version": "1.5.0",
            "_view_name": "HTMLView",
            "description": "",
            "description_tooltip": null,
            "layout": "IPY_MODEL_79cee4cad6fc42b1b2a7ec1fe87813af",
            "placeholder": "​",
            "style": "IPY_MODEL_6474dc7bb11c4872b5c1ee998d71bc46",
            "value": " 97.8M/97.8M [00:00&lt;00:00, 232MB/s]"
          }
        },
        "feac86540aa54dc1af011ba36d991826": {
          "model_module": "@jupyter-widgets/base",
          "model_name": "LayoutModel",
          "model_module_version": "1.2.0",
          "state": {
            "_model_module": "@jupyter-widgets/base",
            "_model_module_version": "1.2.0",
            "_model_name": "LayoutModel",
            "_view_count": null,
            "_view_module": "@jupyter-widgets/base",
            "_view_module_version": "1.2.0",
            "_view_name": "LayoutView",
            "align_content": null,
            "align_items": null,
            "align_self": null,
            "border": null,
            "bottom": null,
            "display": null,
            "flex": null,
            "flex_flow": null,
            "grid_area": null,
            "grid_auto_columns": null,
            "grid_auto_flow": null,
            "grid_auto_rows": null,
            "grid_column": null,
            "grid_gap": null,
            "grid_row": null,
            "grid_template_areas": null,
            "grid_template_columns": null,
            "grid_template_rows": null,
            "height": null,
            "justify_content": null,
            "justify_items": null,
            "left": null,
            "margin": null,
            "max_height": null,
            "max_width": null,
            "min_height": null,
            "min_width": null,
            "object_fit": null,
            "object_position": null,
            "order": null,
            "overflow": null,
            "overflow_x": null,
            "overflow_y": null,
            "padding": null,
            "right": null,
            "top": null,
            "visibility": null,
            "width": null
          }
        },
        "211c6097962e4fadbc12ff405d425848": {
          "model_module": "@jupyter-widgets/base",
          "model_name": "LayoutModel",
          "model_module_version": "1.2.0",
          "state": {
            "_model_module": "@jupyter-widgets/base",
            "_model_module_version": "1.2.0",
            "_model_name": "LayoutModel",
            "_view_count": null,
            "_view_module": "@jupyter-widgets/base",
            "_view_module_version": "1.2.0",
            "_view_name": "LayoutView",
            "align_content": null,
            "align_items": null,
            "align_self": null,
            "border": null,
            "bottom": null,
            "display": null,
            "flex": null,
            "flex_flow": null,
            "grid_area": null,
            "grid_auto_columns": null,
            "grid_auto_flow": null,
            "grid_auto_rows": null,
            "grid_column": null,
            "grid_gap": null,
            "grid_row": null,
            "grid_template_areas": null,
            "grid_template_columns": null,
            "grid_template_rows": null,
            "height": null,
            "justify_content": null,
            "justify_items": null,
            "left": null,
            "margin": null,
            "max_height": null,
            "max_width": null,
            "min_height": null,
            "min_width": null,
            "object_fit": null,
            "object_position": null,
            "order": null,
            "overflow": null,
            "overflow_x": null,
            "overflow_y": null,
            "padding": null,
            "right": null,
            "top": null,
            "visibility": null,
            "width": null
          }
        },
        "01fa8622d5bc4c1f814890db30d025fb": {
          "model_module": "@jupyter-widgets/controls",
          "model_name": "DescriptionStyleModel",
          "model_module_version": "1.5.0",
          "state": {
            "_model_module": "@jupyter-widgets/controls",
            "_model_module_version": "1.5.0",
            "_model_name": "DescriptionStyleModel",
            "_view_count": null,
            "_view_module": "@jupyter-widgets/base",
            "_view_module_version": "1.2.0",
            "_view_name": "StyleView",
            "description_width": ""
          }
        },
        "1f12531b90fd4e309b034a4e67ced4ec": {
          "model_module": "@jupyter-widgets/base",
          "model_name": "LayoutModel",
          "model_module_version": "1.2.0",
          "state": {
            "_model_module": "@jupyter-widgets/base",
            "_model_module_version": "1.2.0",
            "_model_name": "LayoutModel",
            "_view_count": null,
            "_view_module": "@jupyter-widgets/base",
            "_view_module_version": "1.2.0",
            "_view_name": "LayoutView",
            "align_content": null,
            "align_items": null,
            "align_self": null,
            "border": null,
            "bottom": null,
            "display": null,
            "flex": null,
            "flex_flow": null,
            "grid_area": null,
            "grid_auto_columns": null,
            "grid_auto_flow": null,
            "grid_auto_rows": null,
            "grid_column": null,
            "grid_gap": null,
            "grid_row": null,
            "grid_template_areas": null,
            "grid_template_columns": null,
            "grid_template_rows": null,
            "height": null,
            "justify_content": null,
            "justify_items": null,
            "left": null,
            "margin": null,
            "max_height": null,
            "max_width": null,
            "min_height": null,
            "min_width": null,
            "object_fit": null,
            "object_position": null,
            "order": null,
            "overflow": null,
            "overflow_x": null,
            "overflow_y": null,
            "padding": null,
            "right": null,
            "top": null,
            "visibility": null,
            "width": null
          }
        },
        "20fbd91641444f4796d2d25e8914b428": {
          "model_module": "@jupyter-widgets/controls",
          "model_name": "ProgressStyleModel",
          "model_module_version": "1.5.0",
          "state": {
            "_model_module": "@jupyter-widgets/controls",
            "_model_module_version": "1.5.0",
            "_model_name": "ProgressStyleModel",
            "_view_count": null,
            "_view_module": "@jupyter-widgets/base",
            "_view_module_version": "1.2.0",
            "_view_name": "StyleView",
            "bar_color": null,
            "description_width": ""
          }
        },
        "79cee4cad6fc42b1b2a7ec1fe87813af": {
          "model_module": "@jupyter-widgets/base",
          "model_name": "LayoutModel",
          "model_module_version": "1.2.0",
          "state": {
            "_model_module": "@jupyter-widgets/base",
            "_model_module_version": "1.2.0",
            "_model_name": "LayoutModel",
            "_view_count": null,
            "_view_module": "@jupyter-widgets/base",
            "_view_module_version": "1.2.0",
            "_view_name": "LayoutView",
            "align_content": null,
            "align_items": null,
            "align_self": null,
            "border": null,
            "bottom": null,
            "display": null,
            "flex": null,
            "flex_flow": null,
            "grid_area": null,
            "grid_auto_columns": null,
            "grid_auto_flow": null,
            "grid_auto_rows": null,
            "grid_column": null,
            "grid_gap": null,
            "grid_row": null,
            "grid_template_areas": null,
            "grid_template_columns": null,
            "grid_template_rows": null,
            "height": null,
            "justify_content": null,
            "justify_items": null,
            "left": null,
            "margin": null,
            "max_height": null,
            "max_width": null,
            "min_height": null,
            "min_width": null,
            "object_fit": null,
            "object_position": null,
            "order": null,
            "overflow": null,
            "overflow_x": null,
            "overflow_y": null,
            "padding": null,
            "right": null,
            "top": null,
            "visibility": null,
            "width": null
          }
        },
        "6474dc7bb11c4872b5c1ee998d71bc46": {
          "model_module": "@jupyter-widgets/controls",
          "model_name": "DescriptionStyleModel",
          "model_module_version": "1.5.0",
          "state": {
            "_model_module": "@jupyter-widgets/controls",
            "_model_module_version": "1.5.0",
            "_model_name": "DescriptionStyleModel",
            "_view_count": null,
            "_view_module": "@jupyter-widgets/base",
            "_view_module_version": "1.2.0",
            "_view_name": "StyleView",
            "description_width": ""
          }
        }
      }
    }
  },
  "nbformat": 4,
  "nbformat_minor": 0
}