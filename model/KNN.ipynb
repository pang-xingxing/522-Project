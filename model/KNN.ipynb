{
  "metadata": {
    "kernelspec": {
      "language": "python",
      "display_name": "Python 3",
      "name": "python3"
    },
    "language_info": {
      "name": "python",
      "version": "3.7.6",
      "mimetype": "text/x-python",
      "codemirror_mode": {
        "name": "ipython",
        "version": 3
      },
      "pygments_lexer": "ipython3",
      "nbconvert_exporter": "python",
      "file_extension": ".py"
    },
    "colab": {
      "name": "KNN.ipynb",
      "provenance": []
    }
  },
  "nbformat_minor": 0,
  "nbformat": 4,
  "cells": [
    {
      "cell_type": "code",
      "source": [
        "!pip install opendatasets\n",
        "import opendatasets as od\n",
        "\n",
        "import numpy as np\n",
        "import pandas as pd \n",
        "import cv2\n",
        "\n",
        "from sklearn.neighbors import KNeighborsClassifier\n",
        "from sklearn.model_selection import cross_val_score\n",
        "from sklearn.model_selection import train_test_split\n",
        "import matplotlib.pyplot as plt\n",
        "from sklearn.metrics import classification_report\n",
        "from sklearn.metrics import confusion_matrix\n",
        "from sklearn.metrics import plot_confusion_matrix\n",
        "from sklearn import metrics\n",
        "from sklearn import preprocessing\n",
        "import os"
      ],
      "metadata": {
        "_uuid": "8f2839f25d086af736a60e9eeb907d3b93b6e0e5",
        "_cell_guid": "b1076dfc-b9ad-4769-8c92-a6c4dae69d19",
        "execution": {
          "iopub.status.busy": "2022-04-26T14:19:25.481050Z",
          "iopub.execute_input": "2022-04-26T14:19:25.481878Z",
          "iopub.status.idle": "2022-04-26T14:19:26.984087Z",
          "shell.execute_reply.started": "2022-04-26T14:19:25.481818Z",
          "shell.execute_reply": "2022-04-26T14:19:26.983050Z"
        },
        "trusted": true,
        "colab": {
          "base_uri": "https://localhost:8080/"
        },
        "id": "uG78Le-uP4GL",
        "outputId": "50b65275-8338-4ef8-fa70-997b37e746a1"
      },
      "execution_count": 1,
      "outputs": [
        {
          "output_type": "stream",
          "name": "stdout",
          "text": [
            "Collecting opendatasets\n",
            "  Downloading opendatasets-0.1.22-py3-none-any.whl (15 kB)\n",
            "Requirement already satisfied: tqdm in /usr/local/lib/python3.7/dist-packages (from opendatasets) (4.64.0)\n",
            "Requirement already satisfied: kaggle in /usr/local/lib/python3.7/dist-packages (from opendatasets) (1.5.12)\n",
            "Requirement already satisfied: click in /usr/local/lib/python3.7/dist-packages (from opendatasets) (7.1.2)\n",
            "Requirement already satisfied: requests in /usr/local/lib/python3.7/dist-packages (from kaggle->opendatasets) (2.23.0)\n",
            "Requirement already satisfied: python-dateutil in /usr/local/lib/python3.7/dist-packages (from kaggle->opendatasets) (2.8.2)\n",
            "Requirement already satisfied: six>=1.10 in /usr/local/lib/python3.7/dist-packages (from kaggle->opendatasets) (1.15.0)\n",
            "Requirement already satisfied: urllib3 in /usr/local/lib/python3.7/dist-packages (from kaggle->opendatasets) (1.24.3)\n",
            "Requirement already satisfied: python-slugify in /usr/local/lib/python3.7/dist-packages (from kaggle->opendatasets) (6.1.1)\n",
            "Requirement already satisfied: certifi in /usr/local/lib/python3.7/dist-packages (from kaggle->opendatasets) (2021.10.8)\n",
            "Requirement already satisfied: text-unidecode>=1.3 in /usr/local/lib/python3.7/dist-packages (from python-slugify->kaggle->opendatasets) (1.3)\n",
            "Requirement already satisfied: chardet<4,>=3.0.2 in /usr/local/lib/python3.7/dist-packages (from requests->kaggle->opendatasets) (3.0.4)\n",
            "Requirement already satisfied: idna<3,>=2.5 in /usr/local/lib/python3.7/dist-packages (from requests->kaggle->opendatasets) (2.10)\n",
            "Installing collected packages: opendatasets\n",
            "Successfully installed opendatasets-0.1.22\n"
          ]
        }
      ]
    },
    {
      "cell_type": "code",
      "source": [
        "#Variables preparation\n",
        "\n",
        "image_size= 100\n",
        "\n",
        "od.download(\"https://www.kaggle.com/datasets/paultimothymooney/chest-xray-pneumonia\")"
      ],
      "metadata": {
        "_uuid": "d629ff2d2480ee46fbb7e2d37f6b5fab8052498a",
        "_cell_guid": "79c7e3d0-c299-4dcb-8224-4455121ee9b0",
        "execution": {
          "iopub.status.busy": "2022-04-19T22:31:03.396759Z",
          "iopub.execute_input": "2022-04-19T22:31:03.397385Z",
          "iopub.status.idle": "2022-04-19T22:31:03.407007Z",
          "shell.execute_reply.started": "2022-04-19T22:31:03.397319Z",
          "shell.execute_reply": "2022-04-19T22:31:03.406294Z"
        },
        "trusted": true,
        "colab": {
          "base_uri": "https://localhost:8080/"
        },
        "id": "khOz7FlfP4GM",
        "outputId": "153b25f1-b533-47bb-9592-567e86e18d7f"
      },
      "execution_count": 2,
      "outputs": [
        {
          "output_type": "stream",
          "name": "stdout",
          "text": [
            "Please provide your Kaggle credentials to download this dataset. Learn more: http://bit.ly/kaggle-creds\n",
            "Your Kaggle username: peihanl\n",
            "Your Kaggle Key: ··········\n",
            "Downloading chest-xray-pneumonia.zip to ./chest-xray-pneumonia\n"
          ]
        },
        {
          "output_type": "stream",
          "name": "stderr",
          "text": [
            "100%|██████████| 2.29G/2.29G [00:14<00:00, 165MB/s]\n"
          ]
        },
        {
          "output_type": "stream",
          "name": "stdout",
          "text": [
            "\n"
          ]
        }
      ]
    },
    {
      "cell_type": "code",
      "source": [
        "dir_base='/content/chest-xray-pneumonia/chest_xray'\n",
        "test_dir = '{}/{}'.format(dir_base, 'test')\n",
        "train_dir = '{}/{}'.format(dir_base, 'train')\n",
        "val_dir = '{}/{}'.format(dir_base, 'val')\n",
        "\n",
        "test_dir_normal_cases = '{}/{}/{}'.format(dir_base, 'test','NORMAL')\n",
        "train_dir_normal_cases = '{}/{}/{}'.format(dir_base, 'train','NORMAL')\n",
        "val_dir_normal_cases = '{}/{}/{}'.format(dir_base, 'val','NORMAL')\n",
        "\n",
        "test_dir_pneumonia_cases = '{}/{}/{}'.format(dir_base, 'test','PNEUMONIA')\n",
        "train_dir_pneumonia_cases = '{}/{}/{}'.format(dir_base, 'train','PNEUMONIA')\n",
        "val_dir_pneumonia_cases = '{}/{}/{}'.format(dir_base, 'val','PNEUMONIA')"
      ],
      "metadata": {
        "id": "hdHD-K2TW4PK"
      },
      "execution_count": 6,
      "outputs": []
    },
    {
      "cell_type": "code",
      "source": [
        "# Define helper function\n",
        "def get_data(path,label,data_type,process_flipped):\n",
        "    result = []\n",
        "    items = os.listdir(path)\n",
        "    for i in items:\n",
        "        img_path = '{}/{}/{}/{}'.format(dir_base,data_type,label,i)\n",
        "        result.append((get_image_arr(img_path),label))\n",
        "        if process_flipped == True:\n",
        "            result.append((get_flipped_image_arr(img_path),label))\n",
        "    return pd.DataFrame(result, columns=['image', 'label'],index=None)\n",
        "\n",
        "def get_flipped_image_arr(path):\n",
        "        original = cv2.imread(path) \n",
        "        img = cv2.flip(original, 1)\n",
        "        img = cv2.resize(img, (image_size, image_size),interpolation = cv2.INTER_AREA).reshape(1,-1)\n",
        "        return img\n",
        "    \n",
        "def get_image_arr(path):\n",
        "        img = cv2.imread(path) \n",
        "        img = cv2.resize(img, (image_size, image_size),interpolation = cv2.INTER_AREA).reshape(1,-1)\n",
        "        return img\n",
        "    \n",
        "def show_plot(k_values,accuracy_values):\n",
        "    fig = plt.figure()\n",
        "    fig.subplots_adjust(top=0.8)\n",
        "    ax1 = fig.add_subplot()\n",
        "    ax1.set_ylabel('Accuracy')\n",
        "    ax1.set_xlabel('K value')\n",
        "    plt.plot(k_values,accuracy_values,label='Accuracy for k params')\n",
        "    plt.scatter(k_values,accuracy_values,c=k_values,alpha=1)\n",
        "    plt.legend()\n",
        "    plt.show()\n",
        "\n",
        "def show_confusion_matrix(model,x,y):\n",
        "    disp = plot_confusion_matrix(model, x, y,\n",
        "                             normalize=None)\n",
        "    plt.show()"
      ],
      "metadata": {
        "execution": {
          "iopub.status.busy": "2022-04-19T22:31:03.408509Z",
          "iopub.execute_input": "2022-04-19T22:31:03.409321Z",
          "iopub.status.idle": "2022-04-19T22:31:03.425763Z",
          "shell.execute_reply.started": "2022-04-19T22:31:03.409277Z",
          "shell.execute_reply": "2022-04-19T22:31:03.424573Z"
        },
        "trusted": true,
        "id": "996yQ20BP4GN"
      },
      "execution_count": 7,
      "outputs": []
    },
    {
      "cell_type": "code",
      "source": [
        "data_normal = get_data(train_dir_normal_cases,'NORMAL','train',True)\n",
        "data_pneumonia = get_data(train_dir_pneumonia_cases,'PNEUMONIA','train',False)"
      ],
      "metadata": {
        "execution": {
          "iopub.status.busy": "2022-04-19T22:31:03.42706Z",
          "iopub.execute_input": "2022-04-19T22:31:03.427359Z",
          "iopub.status.idle": "2022-04-19T22:34:18.303284Z",
          "shell.execute_reply.started": "2022-04-19T22:31:03.42733Z",
          "shell.execute_reply": "2022-04-19T22:34:18.302296Z"
        },
        "trusted": true,
        "id": "k6q5pba_P4GN"
      },
      "execution_count": 8,
      "outputs": []
    },
    {
      "cell_type": "code",
      "source": [
        "data = pd.concat([data_normal,data_pneumonia])\n",
        "images = data.image\n",
        "y = data.label\n",
        "\n",
        "X = []\n",
        "for i in images.values:\n",
        "    X.append(i[0])\n",
        "X = np.array(X)"
      ],
      "metadata": {
        "execution": {
          "iopub.status.busy": "2022-04-19T22:34:18.30592Z",
          "iopub.execute_input": "2022-04-19T22:34:18.306244Z",
          "iopub.status.idle": "2022-04-19T22:34:18.414405Z",
          "shell.execute_reply.started": "2022-04-19T22:34:18.306217Z",
          "shell.execute_reply": "2022-04-19T22:34:18.413403Z"
        },
        "trusted": true,
        "id": "gqxNaHEyP4GO"
      },
      "execution_count": 9,
      "outputs": []
    },
    {
      "cell_type": "code",
      "source": [
        "print('X shape:',X.shape)\n",
        "print('Y shape:',y.shape)"
      ],
      "metadata": {
        "execution": {
          "iopub.status.busy": "2022-04-19T22:34:18.41596Z",
          "iopub.execute_input": "2022-04-19T22:34:18.416274Z",
          "iopub.status.idle": "2022-04-19T22:34:18.421859Z",
          "shell.execute_reply.started": "2022-04-19T22:34:18.416246Z",
          "shell.execute_reply": "2022-04-19T22:34:18.42097Z"
        },
        "trusted": true,
        "colab": {
          "base_uri": "https://localhost:8080/"
        },
        "id": "VgEqLuXhP4GO",
        "outputId": "05de4753-4ac9-40c4-84df-9ed9f004e631"
      },
      "execution_count": 10,
      "outputs": [
        {
          "output_type": "stream",
          "name": "stdout",
          "text": [
            "X shape: (6557, 30000)\n",
            "Y shape: (6557,)\n"
          ]
        }
      ]
    },
    {
      "cell_type": "code",
      "source": [
        "X_train, X_val, y_train, y_val = train_test_split(X, y, test_size=0.85, random_state=42)"
      ],
      "metadata": {
        "execution": {
          "iopub.status.busy": "2022-04-17T21:35:41.061521Z",
          "iopub.execute_input": "2022-04-17T21:35:41.061966Z",
          "iopub.status.idle": "2022-04-17T21:35:41.25811Z",
          "shell.execute_reply.started": "2022-04-17T21:35:41.061921Z",
          "shell.execute_reply": "2022-04-17T21:35:41.257366Z"
        },
        "trusted": true,
        "id": "3aKN4HLKP4GO"
      },
      "execution_count": 11,
      "outputs": []
    },
    {
      "cell_type": "code",
      "source": [
        "k_values = [1, 3, 5, 10, 20, 50, 100]\n",
        "accuracy_values = []\n",
        "for k in k_values:\n",
        "    model = KNeighborsClassifier(n_neighbors=k)\n",
        "    model.fit(X_train,y_train)\n",
        "    predictions = model.predict(X_val)\n",
        "    acc = metrics.accuracy_score(y_val, predictions)\n",
        "    accuracy_values.append(acc)\n",
        "    print('Accuracy for k={}:'.format(str(k)),acc)\n",
        "    print('\\n')\n",
        "    print(classification_report(y_val, predictions))\n",
        "    print('=========================================================')\n",
        "    print('\\n')\n",
        "show_plot(k_values,accuracy_values)"
      ],
      "metadata": {
        "execution": {
          "iopub.status.busy": "2022-04-17T21:35:41.260722Z",
          "iopub.execute_input": "2022-04-17T21:35:41.261159Z",
          "iopub.status.idle": "2022-04-17T23:19:35.460756Z",
          "shell.execute_reply.started": "2022-04-17T21:35:41.261114Z",
          "shell.execute_reply": "2022-04-17T23:19:35.459142Z"
        },
        "trusted": true,
        "colab": {
          "base_uri": "https://localhost:8080/",
          "height": 1000
        },
        "id": "LQDRupsoP4GO",
        "outputId": "f13a35d3-9fc6-4375-a7d3-88d01c12a425"
      },
      "execution_count": 12,
      "outputs": [
        {
          "output_type": "stream",
          "name": "stdout",
          "text": [
            "Accuracy for k=1: 0.8995335486185863\n",
            "\n",
            "\n",
            "              precision    recall  f1-score   support\n",
            "\n",
            "      NORMAL       0.93      0.82      0.87      2321\n",
            "   PNEUMONIA       0.88      0.96      0.92      3253\n",
            "\n",
            "    accuracy                           0.90      5574\n",
            "   macro avg       0.91      0.89      0.89      5574\n",
            "weighted avg       0.90      0.90      0.90      5574\n",
            "\n",
            "=========================================================\n",
            "\n",
            "\n",
            "Accuracy for k=3: 0.9122712594187298\n",
            "\n",
            "\n",
            "              precision    recall  f1-score   support\n",
            "\n",
            "      NORMAL       0.95      0.83      0.89      2321\n",
            "   PNEUMONIA       0.89      0.97      0.93      3253\n",
            "\n",
            "    accuracy                           0.91      5574\n",
            "   macro avg       0.92      0.90      0.91      5574\n",
            "weighted avg       0.92      0.91      0.91      5574\n",
            "\n",
            "=========================================================\n",
            "\n",
            "\n",
            "Accuracy for k=5: 0.9153211338356656\n",
            "\n",
            "\n",
            "              precision    recall  f1-score   support\n",
            "\n",
            "      NORMAL       0.96      0.83      0.89      2321\n",
            "   PNEUMONIA       0.89      0.97      0.93      3253\n",
            "\n",
            "    accuracy                           0.92      5574\n",
            "   macro avg       0.92      0.90      0.91      5574\n",
            "weighted avg       0.92      0.92      0.91      5574\n",
            "\n",
            "=========================================================\n",
            "\n",
            "\n",
            "Accuracy for k=10: 0.9235737351991389\n",
            "\n",
            "\n",
            "              precision    recall  f1-score   support\n",
            "\n",
            "      NORMAL       0.95      0.86      0.90      2321\n",
            "   PNEUMONIA       0.91      0.97      0.94      3253\n",
            "\n",
            "    accuracy                           0.92      5574\n",
            "   macro avg       0.93      0.91      0.92      5574\n",
            "weighted avg       0.93      0.92      0.92      5574\n",
            "\n",
            "=========================================================\n",
            "\n",
            "\n",
            "Accuracy for k=20: 0.9203444564047363\n",
            "\n",
            "\n",
            "              precision    recall  f1-score   support\n",
            "\n",
            "      NORMAL       0.96      0.84      0.90      2321\n",
            "   PNEUMONIA       0.90      0.98      0.93      3253\n",
            "\n",
            "    accuracy                           0.92      5574\n",
            "   macro avg       0.93      0.91      0.92      5574\n",
            "weighted avg       0.92      0.92      0.92      5574\n",
            "\n",
            "=========================================================\n",
            "\n",
            "\n",
            "Accuracy for k=50: 0.9070685324721923\n",
            "\n",
            "\n",
            "              precision    recall  f1-score   support\n",
            "\n",
            "      NORMAL       0.98      0.80      0.88      2321\n",
            "   PNEUMONIA       0.87      0.99      0.93      3253\n",
            "\n",
            "    accuracy                           0.91      5574\n",
            "   macro avg       0.92      0.89      0.90      5574\n",
            "weighted avg       0.92      0.91      0.91      5574\n",
            "\n",
            "=========================================================\n",
            "\n",
            "\n",
            "Accuracy for k=100: 0.8880516684607105\n",
            "\n",
            "\n",
            "              precision    recall  f1-score   support\n",
            "\n",
            "      NORMAL       0.98      0.74      0.85      2321\n",
            "   PNEUMONIA       0.84      0.99      0.91      3253\n",
            "\n",
            "    accuracy                           0.89      5574\n",
            "   macro avg       0.91      0.87      0.88      5574\n",
            "weighted avg       0.90      0.89      0.88      5574\n",
            "\n",
            "=========================================================\n",
            "\n",
            "\n"
          ]
        },
        {
          "output_type": "display_data",
          "data": {
            "text/plain": [
              "<Figure size 432x288 with 1 Axes>"
            ],
            "image/png": "[encoded data removed]"
          },
          "metadata": {
            "needs_background": "light"
          }
        }
      ]
    },
    {
      "cell_type": "markdown",
      "source": [
        "From the plot above, we can see that when k = 10, the accuracy is highest, so we choose k = 10."
      ],
      "metadata": {
        "id": "IMzL34YtP4GP"
      }
    },
    {
      "cell_type": "code",
      "source": [
        "knn_model = KNeighborsClassifier(n_neighbors=10)\n",
        "knn_model.fit(X,y)"
      ],
      "metadata": {
        "execution": {
          "iopub.status.busy": "2022-04-19T22:34:18.423249Z",
          "iopub.execute_input": "2022-04-19T22:34:18.423631Z",
          "iopub.status.idle": "2022-04-19T22:34:40.598412Z",
          "shell.execute_reply.started": "2022-04-19T22:34:18.423599Z",
          "shell.execute_reply": "2022-04-19T22:34:40.597093Z"
        },
        "trusted": true,
        "colab": {
          "base_uri": "https://localhost:8080/"
        },
        "id": "em-m7SQ2P4GP",
        "outputId": "d5bc0d2b-eeaa-44c8-ad10-19f6239c68a0"
      },
      "execution_count": 13,
      "outputs": [
        {
          "output_type": "execute_result",
          "data": {
            "text/plain": [
              "KNeighborsClassifier(n_neighbors=10)"
            ]
          },
          "metadata": {},
          "execution_count": 13
        }
      ]
    },
    {
      "cell_type": "markdown",
      "source": [
        ""
      ],
      "metadata": {
        "id": "hcdcF5ClP4GQ"
      }
    },
    {
      "cell_type": "code",
      "source": [
        "#Load test data\n",
        "test_data_normal = get_data(test_dir_normal_cases,'NORMAL','test',False)\n",
        "test_data_pneumonia = get_data(test_dir_pneumonia_cases,'PNEUMONIA','test',False)\n",
        "\n",
        "test_data_total = pd.concat([test_data_normal,test_data_pneumonia])\n",
        "\n",
        "y_test_data = test_data_total.label\n",
        "\n",
        "X_test_data = []\n",
        "for i in test_data_total.image.values:\n",
        "    X_test_data.append(i[0])\n",
        "    \n",
        "X_test_data = np.array(X_test_data)"
      ],
      "metadata": {
        "execution": {
          "iopub.status.busy": "2022-04-19T22:34:40.60094Z",
          "iopub.execute_input": "2022-04-19T22:34:40.601384Z",
          "iopub.status.idle": "2022-04-19T22:34:57.722825Z",
          "shell.execute_reply.started": "2022-04-19T22:34:40.601322Z",
          "shell.execute_reply": "2022-04-19T22:34:57.721852Z"
        },
        "trusted": true,
        "id": "d7gpfzZOP4GQ"
      },
      "execution_count": 14,
      "outputs": []
    },
    {
      "cell_type": "code",
      "source": [
        "predictions_test = knn_model.predict(X_test_data)\n",
        "acc_test = metrics.accuracy_score(y_test_data, predictions_test)\n",
        "print('Accuracy for test',acc_test)\n",
        "print(classification_report(y_test_data, predictions_test))\n",
        "# show_confusion_matrix(knn_model,X_test_data,y_test_data)"
      ],
      "metadata": {
        "execution": {
          "iopub.status.busy": "2022-04-19T22:34:57.724522Z",
          "iopub.execute_input": "2022-04-19T22:34:57.724839Z",
          "iopub.status.idle": "2022-04-19T22:43:39.028154Z",
          "shell.execute_reply.started": "2022-04-19T22:34:57.724811Z",
          "shell.execute_reply": "2022-04-19T22:43:39.027087Z"
        },
        "trusted": true,
        "colab": {
          "base_uri": "https://localhost:8080/"
        },
        "id": "9vO4KYrvP4GQ",
        "outputId": "b11b74d1-9225-4f7a-b57b-712790891d8e"
      },
      "execution_count": 22,
      "outputs": [
        {
          "output_type": "stream",
          "name": "stdout",
          "text": [
            "Accuracy for test 0.7660256410256411\n",
            "              precision    recall  f1-score   support\n",
            "\n",
            "      NORMAL       0.96      0.39      0.56       234\n",
            "   PNEUMONIA       0.73      0.99      0.84       390\n",
            "\n",
            "    accuracy                           0.77       624\n",
            "   macro avg       0.84      0.69      0.70       624\n",
            "weighted avg       0.82      0.77      0.73       624\n",
            "\n"
          ]
        }
      ]
    },
    {
      "cell_type": "code",
      "source": [
        "print(classification_report(y_test_data, predictions_test))"
      ],
      "metadata": {
        "execution": {
          "iopub.status.busy": "2022-04-19T22:43:39.030139Z",
          "iopub.execute_input": "2022-04-19T22:43:39.030489Z",
          "iopub.status.idle": "2022-04-19T22:43:39.068626Z",
          "shell.execute_reply.started": "2022-04-19T22:43:39.030456Z",
          "shell.execute_reply": "2022-04-19T22:43:39.067475Z"
        },
        "trusted": true,
        "colab": {
          "base_uri": "https://localhost:8080/"
        },
        "id": "_gB02pddP4GQ",
        "outputId": "aed1c801-0209-4ea6-c2c0-38f6d52e5628"
      },
      "execution_count": 23,
      "outputs": [
        {
          "output_type": "stream",
          "name": "stdout",
          "text": [
            "              precision    recall  f1-score   support\n",
            "\n",
            "      NORMAL       0.96      0.39      0.56       234\n",
            "   PNEUMONIA       0.73      0.99      0.84       390\n",
            "\n",
            "    accuracy                           0.77       624\n",
            "   macro avg       0.84      0.69      0.70       624\n",
            "weighted avg       0.82      0.77      0.73       624\n",
            "\n"
          ]
        }
      ]
    },
    {
      "cell_type": "code",
      "source": [
        "confusion_matrix_df = pd.DataFrame(confusion_matrix(y_test_data, predictions_test))"
      ],
      "metadata": {
        "execution": {
          "iopub.status.busy": "2022-04-19T22:43:39.069989Z",
          "iopub.execute_input": "2022-04-19T22:43:39.070282Z",
          "iopub.status.idle": "2022-04-19T22:43:39.081421Z",
          "shell.execute_reply.started": "2022-04-19T22:43:39.070252Z",
          "shell.execute_reply": "2022-04-19T22:43:39.080311Z"
        },
        "trusted": true,
        "id": "ewO61haiP4GQ"
      },
      "execution_count": 24,
      "outputs": []
    },
    {
      "cell_type": "code",
      "source": [
        "import seaborn as sns"
      ],
      "metadata": {
        "execution": {
          "iopub.status.busy": "2022-04-19T22:43:39.082742Z",
          "iopub.execute_input": "2022-04-19T22:43:39.083044Z",
          "iopub.status.idle": "2022-04-19T22:43:39.194907Z",
          "shell.execute_reply.started": "2022-04-19T22:43:39.083017Z",
          "shell.execute_reply": "2022-04-19T22:43:39.194043Z"
        },
        "trusted": true,
        "id": "sEwRKQM_P4GQ"
      },
      "execution_count": 25,
      "outputs": []
    },
    {
      "cell_type": "code",
      "source": [
        "plt.figure(figsize=(16,8))\n",
        "sns.heatmap(confusion_matrix_df, cmap=\"RdBu\", annot=True)\n",
        "plt.title('KNN Confusion Matrix', fontsize=16)\n",
        "plt.xlabel(\"Predicted condition\")\n",
        "plt.ylabel(\"Actual condition\")\n",
        "plt.savefig(\"knn_confusion_matrix.png\")\n",
        "plt.show()"
      ],
      "metadata": {
        "execution": {
          "iopub.status.busy": "2022-04-19T22:43:39.196093Z",
          "iopub.execute_input": "2022-04-19T22:43:39.196577Z",
          "iopub.status.idle": "2022-04-19T22:43:39.497105Z",
          "shell.execute_reply.started": "2022-04-19T22:43:39.196536Z",
          "shell.execute_reply": "2022-04-19T22:43:39.495986Z"
        },
        "trusted": true,
        "colab": {
          "base_uri": "https://localhost:8080/",
          "height": 515
        },
        "id": "6bxn4lT4P4GR",
        "outputId": "a92d05e0-7fea-4519-e463-67cbd9d496d7"
      },
      "execution_count": 26,
      "outputs": [
        {
          "output_type": "display_data",
          "data": {
            "text/plain": [
              "<Figure size 1152x576 with 2 Axes>"
            ],
            "image/png": "[encoded data removed]"
          },
          "metadata": {
            "needs_background": "light"
          }
        }
      ]
    },
    {
      "cell_type": "code",
      "source": [
        ""
      ],
      "metadata": {
        "id": "AQFdt3WIP4GR"
      },
      "execution_count": null,
      "outputs": []
    }
  ]
}