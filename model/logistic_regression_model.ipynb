{
  "metadata": {
    "kernelspec": {
      "language": "python",
      "display_name": "Python 3",
      "name": "python3"
    },
    "language_info": {
      "pygments_lexer": "ipython3",
      "nbconvert_exporter": "python",
      "version": "3.6.4",
      "file_extension": ".py",
      "codemirror_mode": {
        "name": "ipython",
        "version": 3
      },
      "name": "python",
      "mimetype": "text/x-python"
    },
    "colab": {
      "name": "logistic_regression_model.ipynb",
      "provenance": []
    }
  },
  "nbformat_minor": 0,
  "nbformat": 4,
  "cells": [
    {
      "cell_type": "code",
      "source": [
        "!pip install opendatasets\n",
        "import opendatasets as od\n",
        "import numpy as np\n",
        "import pandas as pd\n",
        "import matplotlib.pyplot as plt\n",
        "import cv2 \n",
        "import os \n",
        "import warnings\n",
        "from random import shuffle \n",
        "from tqdm import tqdm \n",
        "from PIL import Image\n",
        "warnings.filterwarnings('ignore')\n",
        "\n",
        "in_path = '/content/chest-xray-pneumonia/chest_xray/chest_xray'"
      ],
      "metadata": {
        "_uuid": "8f2839f25d086af736a60e9eeb907d3b93b6e0e5",
        "_cell_guid": "b1076dfc-b9ad-4769-8c92-a6c4dae69d19",
        "execution": {
          "iopub.status.busy": "2022-04-18T20:11:53.43984Z",
          "iopub.execute_input": "2022-04-18T20:11:53.440478Z",
          "iopub.status.idle": "2022-04-18T20:11:54.324045Z",
          "shell.execute_reply.started": "2022-04-18T20:11:53.440422Z",
          "shell.execute_reply": "2022-04-18T20:11:54.32257Z"
        },
        "trusted": true,
        "colab": {
          "base_uri": "https://localhost:8080/"
        },
        "id": "wSaE9M-jZe2d",
        "outputId": "549d44d9-a994-4731-b7c8-1754ef8d1f49"
      },
      "execution_count": 1,
      "outputs": [
        {
          "output_type": "stream",
          "name": "stdout",
          "text": [
            "Collecting opendatasets\n",
            "  Downloading opendatasets-0.1.22-py3-none-any.whl (15 kB)\n",
            "Requirement already satisfied: kaggle in /usr/local/lib/python3.7/dist-packages (from opendatasets) (1.5.12)\n",
            "Requirement already satisfied: tqdm in /usr/local/lib/python3.7/dist-packages (from opendatasets) (4.64.0)\n",
            "Requirement already satisfied: click in /usr/local/lib/python3.7/dist-packages (from opendatasets) (7.1.2)\n",
            "Requirement already satisfied: python-dateutil in /usr/local/lib/python3.7/dist-packages (from kaggle->opendatasets) (2.8.2)\n",
            "Requirement already satisfied: six>=1.10 in /usr/local/lib/python3.7/dist-packages (from kaggle->opendatasets) (1.15.0)\n",
            "Requirement already satisfied: urllib3 in /usr/local/lib/python3.7/dist-packages (from kaggle->opendatasets) (1.24.3)\n",
            "Requirement already satisfied: python-slugify in /usr/local/lib/python3.7/dist-packages (from kaggle->opendatasets) (6.1.1)\n",
            "Requirement already satisfied: certifi in /usr/local/lib/python3.7/dist-packages (from kaggle->opendatasets) (2021.10.8)\n",
            "Requirement already satisfied: requests in /usr/local/lib/python3.7/dist-packages (from kaggle->opendatasets) (2.23.0)\n",
            "Requirement already satisfied: text-unidecode>=1.3 in /usr/local/lib/python3.7/dist-packages (from python-slugify->kaggle->opendatasets) (1.3)\n",
            "Requirement already satisfied: idna<3,>=2.5 in /usr/local/lib/python3.7/dist-packages (from requests->kaggle->opendatasets) (2.10)\n",
            "Requirement already satisfied: chardet<4,>=3.0.2 in /usr/local/lib/python3.7/dist-packages (from requests->kaggle->opendatasets) (3.0.4)\n",
            "Installing collected packages: opendatasets\n",
            "Successfully installed opendatasets-0.1.22\n"
          ]
        }
      ]
    },
    {
      "cell_type": "code",
      "source": [
        "od.download(\"https://www.kaggle.com/datasets/paultimothymooney/chest-xray-pneumonia\")"
      ],
      "metadata": {
        "colab": {
          "base_uri": "https://localhost:8080/"
        },
        "id": "F98Szb0sZyHU",
        "outputId": "791a1f6d-c7dd-48d5-aa9e-676e7f27ac18"
      },
      "execution_count": 3,
      "outputs": [
        {
          "output_type": "stream",
          "name": "stdout",
          "text": [
            "Please provide your Kaggle credentials to download this dataset. Learn more: http://bit.ly/kaggle-creds\n",
            "Your Kaggle username: peihanl\n",
            "Your Kaggle Key: ··········\n",
            "Downloading chest-xray-pneumonia.zip to ./chest-xray-pneumonia\n"
          ]
        },
        {
          "output_type": "stream",
          "name": "stderr",
          "text": [
            "100%|██████████| 2.29G/2.29G [00:22<00:00, 108MB/s]\n"
          ]
        },
        {
          "output_type": "stream",
          "name": "stdout",
          "text": [
            "\n"
          ]
        }
      ]
    },
    {
      "cell_type": "code",
      "source": [
        "image_size = 150\n",
        "\n",
        "train_data_log = []\n",
        "train_labels_log = []\n",
        "\n",
        "in_path = '/content/chest-xray-pneumonia/chest_xray/chest_xray/'\n",
        "for normal_image in tqdm(os.listdir(in_path + 'train' + '/NORMAL/')): \n",
        "    path = os.path.join(in_path + 'train' + '/NORMAL/', normal_image)\n",
        "    img = cv2.imread(path, cv2.IMREAD_GRAYSCALE) \n",
        "    if img is None:\n",
        "        continue\n",
        "    img = cv2.resize(img, (image_size, image_size)).flatten()   \n",
        "    np_img=np.asarray(img)\n",
        "    train_data_log.append(img)\n",
        "    train_labels_log.append(0)\n",
        "    \n",
        "for pneumonia_image in tqdm(os.listdir(in_path + 'train' + '/PNEUMONIA/')): \n",
        "    path = os.path.join(in_path + 'train' + '/PNEUMONIA/', pneumonia_image)\n",
        "    img2 = cv2.imread(path, cv2.IMREAD_GRAYSCALE) \n",
        "    if img2 is None:\n",
        "        continue\n",
        "    img2 = cv2.resize(img2, (image_size, image_size)).flatten() \n",
        "    np_img2=np.asarray(img2)\n",
        "    train_data_log.append(img2)\n",
        "    train_labels_log.append(1)"
      ],
      "metadata": {
        "_uuid": "d629ff2d2480ee46fbb7e2d37f6b5fab8052498a",
        "_cell_guid": "79c7e3d0-c299-4dcb-8224-4455121ee9b0",
        "execution": {
          "iopub.status.busy": "2022-04-18T20:11:54.326433Z",
          "iopub.execute_input": "2022-04-18T20:11:54.326989Z",
          "iopub.status.idle": "2022-04-18T20:13:34.667014Z",
          "shell.execute_reply.started": "2022-04-18T20:11:54.326775Z",
          "shell.execute_reply": "2022-04-18T20:13:34.665984Z"
        },
        "trusted": true,
        "colab": {
          "base_uri": "https://localhost:8080/"
        },
        "id": "ZZT00WvIZe2f",
        "outputId": "79c4b3ca-0a59-4674-f220-542e6eb7c745"
      },
      "execution_count": 6,
      "outputs": [
        {
          "output_type": "stream",
          "name": "stderr",
          "text": [
            "100%|██████████| 1342/1342 [00:29<00:00, 45.19it/s]\n",
            "100%|██████████| 3876/3876 [00:24<00:00, 159.43it/s]\n"
          ]
        }
      ]
    },
    {
      "cell_type": "code",
      "source": [
        "train_data_log[0].shape"
      ],
      "metadata": {
        "execution": {
          "iopub.status.busy": "2022-04-18T20:13:34.668612Z",
          "iopub.execute_input": "2022-04-18T20:13:34.668908Z",
          "iopub.status.idle": "2022-04-18T20:13:34.676753Z",
          "shell.execute_reply.started": "2022-04-18T20:13:34.668852Z",
          "shell.execute_reply": "2022-04-18T20:13:34.674935Z"
        },
        "trusted": true,
        "colab": {
          "base_uri": "https://localhost:8080/"
        },
        "id": "xWq7eFG0Ze2g",
        "outputId": "0c5af98a-dc69-4a05-ffa3-01cfdaf7604a"
      },
      "execution_count": 7,
      "outputs": [
        {
          "output_type": "execute_result",
          "data": {
            "text/plain": [
              "(22500,)"
            ]
          },
          "metadata": {},
          "execution_count": 7
        }
      ]
    },
    {
      "cell_type": "code",
      "source": [
        "test_data_log = []\n",
        "test_labels_log = []\n",
        "\n",
        "for normal_image in tqdm(os.listdir(in_path + 'test' + '/NORMAL/')): \n",
        "    path = os.path.join(in_path + 'test' + '/NORMAL/', normal_image)\n",
        "    img = cv2.imread(path, cv2.IMREAD_GRAYSCALE) \n",
        "    if img is None:\n",
        "        continue\n",
        "    img = cv2.resize(img, (image_size, image_size)).flatten()   \n",
        "    np_img=np.asarray(img)\n",
        "    test_data_log.append(img)\n",
        "    test_labels_log.append(0)\n",
        "    \n",
        "for pneumonia_image in tqdm(os.listdir(in_path + 'test' + '/PNEUMONIA/')): \n",
        "    path = os.path.join(in_path + 'test' + '/PNEUMONIA/', pneumonia_image)\n",
        "    img2 = cv2.imread(path, cv2.IMREAD_GRAYSCALE) \n",
        "    if img2 is None:\n",
        "        continue\n",
        "    img2 = cv2.resize(img2, (image_size, image_size)).flatten() \n",
        "    np_img2=np.asarray(img2)\n",
        "    test_data_log.append(img2)\n",
        "    test_labels_log.append(1)"
      ],
      "metadata": {
        "execution": {
          "iopub.status.busy": "2022-04-18T20:13:34.67864Z",
          "iopub.execute_input": "2022-04-18T20:13:34.679029Z",
          "iopub.status.idle": "2022-04-18T20:13:44.127348Z",
          "shell.execute_reply.started": "2022-04-18T20:13:34.678887Z",
          "shell.execute_reply": "2022-04-18T20:13:44.126408Z"
        },
        "trusted": true,
        "colab": {
          "base_uri": "https://localhost:8080/"
        },
        "id": "FOJg3OTaZe2g",
        "outputId": "d2201e9b-c701-4ac8-e1b4-09f9dbfa5bd2"
      },
      "execution_count": 8,
      "outputs": [
        {
          "output_type": "stream",
          "name": "stderr",
          "text": [
            "100%|██████████| 234/234 [00:03<00:00, 67.63it/s]\n",
            "100%|██████████| 390/390 [00:02<00:00, 179.77it/s]\n"
          ]
        }
      ]
    },
    {
      "cell_type": "code",
      "source": [
        "train_data = np.array(train_data_log).T\n",
        "train_labels = np.array(train_labels_log).reshape(-1, 1).T\n",
        "test_data = np.array(test_data_log).T\n",
        "test_labels = np.array(test_labels_log).reshape(-1, 1).T\n",
        "\n",
        "train_data = (train_data-np.min(train_data))/(np.max(train_data)-np.min(train_data))\n",
        "test_data = (test_data-np.min(test_data))/(np.max(test_data)-np.min(test_data))\n",
        "\n",
        "print(\"Train data shape: {}\".format(train_data.shape))\n",
        "print(\"Train labels shape: {}\".format(train_labels.shape))\n",
        "print(\"Test data shape: {}\".format(test_data.shape))\n",
        "print(\"Test labels shape: {}\".format(test_labels.shape))"
      ],
      "metadata": {
        "execution": {
          "iopub.status.busy": "2022-04-18T20:13:44.129364Z",
          "iopub.execute_input": "2022-04-18T20:13:44.129591Z",
          "iopub.status.idle": "2022-04-18T20:13:45.066489Z",
          "shell.execute_reply.started": "2022-04-18T20:13:44.129551Z",
          "shell.execute_reply": "2022-04-18T20:13:45.065592Z"
        },
        "trusted": true,
        "colab": {
          "base_uri": "https://localhost:8080/"
        },
        "id": "Cb-2H9FzZe2g",
        "outputId": "31213c86-b4e8-4ec3-e6ad-1a5616ac5a91"
      },
      "execution_count": 9,
      "outputs": [
        {
          "output_type": "stream",
          "name": "stdout",
          "text": [
            "Train data shape: (22500, 5216)\n",
            "Train labels shape: (1, 5216)\n",
            "Test data shape: (22500, 624)\n",
            "Test labels shape: (1, 624)\n"
          ]
        }
      ]
    },
    {
      "cell_type": "code",
      "source": [
        "def sigm(x):\n",
        "    return 1/(1+np.exp(-x))"
      ],
      "metadata": {
        "execution": {
          "iopub.status.busy": "2022-04-18T20:13:45.067988Z",
          "iopub.execute_input": "2022-04-18T20:13:45.068262Z",
          "iopub.status.idle": "2022-04-18T20:13:45.072603Z",
          "shell.execute_reply.started": "2022-04-18T20:13:45.0682Z",
          "shell.execute_reply": "2022-04-18T20:13:45.07184Z"
        },
        "trusted": true,
        "id": "SOKz4DnSZe2h"
      },
      "execution_count": 10,
      "outputs": []
    },
    {
      "cell_type": "code",
      "source": [
        "def propagate(w,b,train_data,train_labels):\n",
        "    y = sigm(np.dot(w.T,train_data) + b)\n",
        "    loss = -train_labels*np.log(y)-(1-train_labels)*np.log(1-y)\n",
        "    cost = (np.sum(loss))/train_data.shape[1]\n",
        "    dW = (np.dot(train_data,((y-train_labels).T)))/train_data.shape[1]\n",
        "    dB = np.sum(y-train_labels)/train_data.shape[1]\n",
        "    return cost, {\"dW\": dW,\"dB\": dB}"
      ],
      "metadata": {
        "execution": {
          "iopub.status.busy": "2022-04-18T20:13:45.07366Z",
          "iopub.execute_input": "2022-04-18T20:13:45.073883Z",
          "iopub.status.idle": "2022-04-18T20:13:45.084861Z",
          "shell.execute_reply.started": "2022-04-18T20:13:45.073842Z",
          "shell.execute_reply": "2022-04-18T20:13:45.083951Z"
        },
        "trusted": true,
        "id": "jZsxyo_1Ze2h"
      },
      "execution_count": 11,
      "outputs": []
    },
    {
      "cell_type": "code",
      "source": [
        "def update(w, b, train_data, train_labels, learning_rate, max_iter):\n",
        "    costs = []\n",
        "    costs2 = []\n",
        "    index = []\n",
        "    \n",
        "    for i in range(max_iter):\n",
        "        cost, deltas = propagate(w,b,train_data,train_labels)\n",
        "        costs.append(cost)\n",
        "        w = w - learning_rate * deltas[\"dW\"]\n",
        "        b = b - learning_rate * deltas[\"dB\"]\n",
        "        \n",
        "        if i % 50 == 0 and i != 0:\n",
        "            costs2.append(cost)\n",
        "            index.append(i)\n",
        "            print(\"Iteration {} > cost = {}\".format(i, cost))\n",
        "    \n",
        "    plt.plot(index,costs2)\n",
        "    plt.xticks(index)\n",
        "    plt.xlabel(\"Iteration\")\n",
        "    plt.ylabel(\"Cost\")\n",
        "    plt.show()\n",
        "    return {\"w\": w,\"b\": b}, deltas, costs"
      ],
      "metadata": {
        "execution": {
          "iopub.status.busy": "2022-04-18T20:13:45.086319Z",
          "iopub.execute_input": "2022-04-18T20:13:45.08669Z",
          "iopub.status.idle": "2022-04-18T20:13:45.09845Z",
          "shell.execute_reply.started": "2022-04-18T20:13:45.08663Z",
          "shell.execute_reply": "2022-04-18T20:13:45.09745Z"
        },
        "trusted": true,
        "id": "k_IhYSgaZe2h"
      },
      "execution_count": 12,
      "outputs": []
    },
    {
      "cell_type": "code",
      "source": [
        "def predict(w, b, test_data):\n",
        "    z = sigm(np.dot(w.T, test_data)+b)\n",
        "    pred = np.zeros((1, test_data.shape[1]))\n",
        "    for i in range(z.shape[1]):\n",
        "        if z[0,i] <= 0.5:\n",
        "            pred[0,i] = 0\n",
        "        else:\n",
        "            pred[0,i] = 1\n",
        "    return pred"
      ],
      "metadata": {
        "execution": {
          "iopub.status.busy": "2022-04-18T20:13:45.099922Z",
          "iopub.execute_input": "2022-04-18T20:13:45.100476Z",
          "iopub.status.idle": "2022-04-18T20:13:45.109795Z",
          "shell.execute_reply.started": "2022-04-18T20:13:45.100419Z",
          "shell.execute_reply": "2022-04-18T20:13:45.109142Z"
        },
        "trusted": true,
        "id": "EKr12fuTZe2i"
      },
      "execution_count": 13,
      "outputs": []
    },
    {
      "cell_type": "code",
      "source": [
        "def log_regression(train_data, train_labels, test_data, test_labels, learning_rate, max_iter):\n",
        "    dim =  train_data.shape[0]\n",
        "    w = np.full((dim,1),0.01)\n",
        "    b = 0.0\n",
        "\n",
        "    params, gradients, cost_list = update(w, b, train_data, train_labels, learning_rate, max_iter)\n",
        "    \n",
        "    test_labels_prediction = predict(params[\"w\"],params[\"b\"],test_data)\n",
        "    train_labels_prediction = predict(params[\"w\"],params[\"b\"],train_data)\n",
        "    \n",
        "    print(\"Test Accuracy: {} %\".format(round(100 - np.mean(np.abs(test_labels_prediction - test_labels)) * 100,2)))\n",
        "    print(\"Train Accuracy: {} %\".format(round(100 - np.mean(np.abs(train_labels_prediction - train_labels)) * 100,2)))\n",
        "    \n",
        "    return test_labels_prediction"
      ],
      "metadata": {
        "execution": {
          "iopub.status.busy": "2022-04-18T20:17:20.762392Z",
          "iopub.execute_input": "2022-04-18T20:17:20.762724Z",
          "iopub.status.idle": "2022-04-18T20:17:20.770809Z",
          "shell.execute_reply.started": "2022-04-18T20:17:20.762685Z",
          "shell.execute_reply": "2022-04-18T20:17:20.769818Z"
        },
        "trusted": true,
        "id": "oQelBLCrZe2i"
      },
      "execution_count": 14,
      "outputs": []
    },
    {
      "cell_type": "code",
      "source": [
        "test_labels_prediction = log_regression(train_data, train_labels, test_data, test_labels, learning_rate = 0.001, max_iter = 1000)"
      ],
      "metadata": {
        "execution": {
          "iopub.status.busy": "2022-04-18T20:17:21.254775Z",
          "iopub.execute_input": "2022-04-18T20:17:21.25508Z",
          "iopub.status.idle": "2022-04-18T20:18:43.552742Z",
          "shell.execute_reply.started": "2022-04-18T20:17:21.25503Z",
          "shell.execute_reply": "2022-04-18T20:18:43.551799Z"
        },
        "trusted": true,
        "colab": {
          "base_uri": "https://localhost:8080/",
          "height": 658
        },
        "id": "M_OLVxEDZe2i",
        "outputId": "fbb1df37-e7ac-444c-adda-643f2008835a"
      },
      "execution_count": 15,
      "outputs": [
        {
          "output_type": "stream",
          "name": "stdout",
          "text": [
            "Iteration 50 > cost = nan\n",
            "Iteration 100 > cost = 0.6768665575723896\n",
            "Iteration 150 > cost = 0.510657087726437\n",
            "Iteration 200 > cost = 0.4117509891974842\n",
            "Iteration 250 > cost = 0.3543191691509255\n",
            "Iteration 300 > cost = 0.31926841281102925\n",
            "Iteration 350 > cost = 0.29604665194973445\n",
            "Iteration 400 > cost = 0.2793188537995985\n",
            "Iteration 450 > cost = 0.26638654639791115\n",
            "Iteration 500 > cost = 0.25583630452238976\n",
            "Iteration 550 > cost = 0.24689143781308215\n",
            "Iteration 600 > cost = 0.23910189782917043\n",
            "Iteration 650 > cost = 0.23219207113159893\n",
            "Iteration 700 > cost = 0.22598339702112233\n",
            "Iteration 750 > cost = 0.22035357988645124\n",
            "Iteration 800 > cost = 0.21521434288334584\n",
            "Iteration 850 > cost = 0.21049889710779324\n",
            "Iteration 900 > cost = 0.20615465769466187\n",
            "Iteration 950 > cost = 0.20213887128413852\n"
          ]
        },
        {
          "output_type": "display_data",
          "data": {
            "text/plain": [
              "<Figure size 432x288 with 1 Axes>"
            ],
            "image/png": "[encoded data removed]"
          },
          "metadata": {
            "needs_background": "light"
          }
        },
        {
          "output_type": "stream",
          "name": "stdout",
          "text": [
            "Test Accuracy: 77.24 %\n",
            "Train Accuracy: 92.71 %\n"
          ]
        }
      ]
    },
    {
      "cell_type": "code",
      "source": [
        "from sklearn.metrics import classification_report, confusion_matrix\n",
        "import seaborn as sns\n",
        "confusion_matrix_df = pd.DataFrame(confusion_matrix(test_labels[0], test_labels_prediction[0]))"
      ],
      "metadata": {
        "execution": {
          "iopub.status.busy": "2022-04-18T20:20:14.998341Z",
          "iopub.execute_input": "2022-04-18T20:20:14.998641Z",
          "iopub.status.idle": "2022-04-18T20:20:16.992465Z",
          "shell.execute_reply.started": "2022-04-18T20:20:14.998595Z",
          "shell.execute_reply": "2022-04-18T20:20:16.991686Z"
        },
        "trusted": true,
        "id": "sqIDr01fZe2j"
      },
      "execution_count": 17,
      "outputs": []
    },
    {
      "cell_type": "code",
      "source": [
        "plt.figure(figsize=(16,8))\n",
        "sns.heatmap(confusion_matrix_df, cmap=\"RdBu\", annot=True)\n",
        "plt.title('Logistic Regression Confusion Matrix', fontsize=16)\n",
        "plt.xlabel(\"Predicted condition\")\n",
        "plt.ylabel(\"Actual condition\")\n",
        "plt.savefig(\"log_regression_confusion_matrix.png\")\n",
        "plt.show()"
      ],
      "metadata": {
        "execution": {
          "iopub.status.busy": "2022-04-18T20:31:59.383352Z",
          "iopub.execute_input": "2022-04-18T20:31:59.383917Z",
          "iopub.status.idle": "2022-04-18T20:31:59.895774Z",
          "shell.execute_reply.started": "2022-04-18T20:31:59.383867Z",
          "shell.execute_reply": "2022-04-18T20:31:59.894927Z"
        },
        "trusted": true,
        "colab": {
          "base_uri": "https://localhost:8080/",
          "height": 515
        },
        "id": "Y4IAvuFAZe2j",
        "outputId": "fba164c5-86b3-4336-dcd5-5540656f8f08"
      },
      "execution_count": 18,
      "outputs": [
        {
          "output_type": "display_data",
          "data": {
            "text/plain": [
              "<Figure size 1152x576 with 2 Axes>"
            ],
            "image/png": "[encoded data removed]"
          },
          "metadata": {
            "needs_background": "light"
          }
        }
      ]
    },
    {
      "cell_type": "code",
      "source": [
        "print(classification_report(test_labels[0], test_labels_prediction[0]))"
      ],
      "metadata": {
        "execution": {
          "iopub.status.busy": "2022-04-18T20:38:29.53084Z",
          "iopub.execute_input": "2022-04-18T20:38:29.531319Z",
          "iopub.status.idle": "2022-04-18T20:38:29.54238Z",
          "shell.execute_reply.started": "2022-04-18T20:38:29.531247Z",
          "shell.execute_reply": "2022-04-18T20:38:29.541458Z"
        },
        "trusted": true,
        "colab": {
          "base_uri": "https://localhost:8080/"
        },
        "id": "YKyCLB2IZe2j",
        "outputId": "4d18aa0c-ba93-4f9b-d44a-a8030a13c92b"
      },
      "execution_count": 19,
      "outputs": [
        {
          "output_type": "stream",
          "name": "stdout",
          "text": [
            "              precision    recall  f1-score   support\n",
            "\n",
            "           0       0.94      0.42      0.58       234\n",
            "           1       0.74      0.98      0.84       390\n",
            "\n",
            "    accuracy                           0.77       624\n",
            "   macro avg       0.84      0.70      0.71       624\n",
            "weighted avg       0.81      0.77      0.74       624\n",
            "\n"
          ]
        }
      ]
    },
    {
      "cell_type": "code",
      "source": [
        ""
      ],
      "metadata": {
        "id": "ONWImpofZe2k"
      },
      "execution_count": null,
      "outputs": []
    }
  ]
}